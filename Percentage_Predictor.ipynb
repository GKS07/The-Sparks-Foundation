{
  "nbformat": 4,
  "nbformat_minor": 0,
  "metadata": {
    "colab": {
      "name": "Percentage_Predictor.ipynb",
      "provenance": [],
      "collapsed_sections": [],
      "authorship_tag": "ABX9TyPKG+VD3wpdQRkvvZCncp8d",
      "include_colab_link": true
    },
    "kernelspec": {
      "name": "python3",
      "display_name": "Python 3"
    }
  },
  "cells": [
    {
      "cell_type": "markdown",
      "metadata": {
        "id": "view-in-github",
        "colab_type": "text"
      },
      "source": [
        "<a href=\"https://colab.research.google.com/github/GKS07/The-Sparks-Foundation/blob/main/Percentage_Predictor.ipynb\" target=\"_parent\"><img src=\"https://colab.research.google.com/assets/colab-badge.svg\" alt=\"Open In Colab\"/></a>"
      ]
    },
    {
      "cell_type": "markdown",
      "metadata": {
        "id": "XRiMU9X9ns9A"
      },
      "source": [
        "#**The Sparks Foundation**\n",
        "\n"
      ]
    },
    {
      "cell_type": "markdown",
      "metadata": {
        "id": "PR8DQR5sqq0a"
      },
      "source": [
        "##**Author : Gaurav Kumar Singh**"
      ]
    },
    {
      "cell_type": "markdown",
      "metadata": {
        "id": "FdQhEUjCrGzN"
      },
      "source": [
        "##**Task 1**\n",
        "###**Simple Linear Regression**\n",
        "*In this task we will use linear Regression model to predict the expected score of the students based on their study hours.*"
      ]
    },
    {
      "cell_type": "markdown",
      "metadata": {
        "id": "E8IrPzRfsbfR"
      },
      "source": [
        "###**importing the libraries**"
      ]
    },
    {
      "cell_type": "code",
      "metadata": {
        "id": "cSbPzru7kFIt"
      },
      "source": [
        "# importing the important libraries\n",
        "import pandas as pd\n",
        "import matplotlib.pyplot as plt\n",
        "import seaborn as sns\n",
        "%matplotlib inline\n",
        "import numpy as np\n",
        "from sklearn.model_selection import train_test_split\n",
        "from sklearn.linear_model import LinearRegression\n",
        "from sklearn.metrics import mean_absolute_error"
      ],
      "execution_count": 30,
      "outputs": []
    },
    {
      "cell_type": "markdown",
      "metadata": {
        "id": "BGiya-8RsoT3"
      },
      "source": [
        "####**importing the data**"
      ]
    },
    {
      "cell_type": "code",
      "metadata": {
        "id": "sQFeijMqk-L7",
        "outputId": "b2a7e5e3-3940-4767-c50e-421137c5d43f",
        "colab": {
          "base_uri": "https://localhost:8080/"
        }
      },
      "source": [
        "# importing the data\n",
        "url = \"http://bit.ly/w-data\"\n",
        "\n",
        "data = pd.read_csv(url)\n",
        "print(\"data is imported.\")"
      ],
      "execution_count": 2,
      "outputs": [
        {
          "output_type": "stream",
          "text": [
            "data is imported.\n"
          ],
          "name": "stdout"
        }
      ]
    },
    {
      "cell_type": "markdown",
      "metadata": {
        "id": "hsAs8HjqJicD"
      },
      "source": [
        "###**Exploring data**"
      ]
    },
    {
      "cell_type": "code",
      "metadata": {
        "id": "oe2lEO9wloCI",
        "outputId": "0f496a1b-1b21-4a89-c533-144a140a2bdc",
        "colab": {
          "base_uri": "https://localhost:8080/"
        }
      },
      "source": [
        "# understanding the data\n",
        "data.shape "
      ],
      "execution_count": 3,
      "outputs": [
        {
          "output_type": "execute_result",
          "data": {
            "text/plain": [
              "(25, 2)"
            ]
          },
          "metadata": {
            "tags": []
          },
          "execution_count": 3
        }
      ]
    },
    {
      "cell_type": "markdown",
      "metadata": {
        "id": "a_SWsQIRl3nS"
      },
      "source": [
        "So we have 25 rows and 2 coulmns."
      ]
    },
    {
      "cell_type": "code",
      "metadata": {
        "id": "4UwMMChAlv5Y",
        "outputId": "18b5ec3b-72e2-45f5-fb53-f850ae0d1e97",
        "colab": {
          "base_uri": "https://localhost:8080/",
          "height": 195
        }
      },
      "source": [
        "data.head(5)"
      ],
      "execution_count": 4,
      "outputs": [
        {
          "output_type": "execute_result",
          "data": {
            "text/html": [
              "<div>\n",
              "<style scoped>\n",
              "    .dataframe tbody tr th:only-of-type {\n",
              "        vertical-align: middle;\n",
              "    }\n",
              "\n",
              "    .dataframe tbody tr th {\n",
              "        vertical-align: top;\n",
              "    }\n",
              "\n",
              "    .dataframe thead th {\n",
              "        text-align: right;\n",
              "    }\n",
              "</style>\n",
              "<table border=\"1\" class=\"dataframe\">\n",
              "  <thead>\n",
              "    <tr style=\"text-align: right;\">\n",
              "      <th></th>\n",
              "      <th>Hours</th>\n",
              "      <th>Scores</th>\n",
              "    </tr>\n",
              "  </thead>\n",
              "  <tbody>\n",
              "    <tr>\n",
              "      <th>0</th>\n",
              "      <td>2.5</td>\n",
              "      <td>21</td>\n",
              "    </tr>\n",
              "    <tr>\n",
              "      <th>1</th>\n",
              "      <td>5.1</td>\n",
              "      <td>47</td>\n",
              "    </tr>\n",
              "    <tr>\n",
              "      <th>2</th>\n",
              "      <td>3.2</td>\n",
              "      <td>27</td>\n",
              "    </tr>\n",
              "    <tr>\n",
              "      <th>3</th>\n",
              "      <td>8.5</td>\n",
              "      <td>75</td>\n",
              "    </tr>\n",
              "    <tr>\n",
              "      <th>4</th>\n",
              "      <td>3.5</td>\n",
              "      <td>30</td>\n",
              "    </tr>\n",
              "  </tbody>\n",
              "</table>\n",
              "</div>"
            ],
            "text/plain": [
              "   Hours  Scores\n",
              "0    2.5      21\n",
              "1    5.1      47\n",
              "2    3.2      27\n",
              "3    8.5      75\n",
              "4    3.5      30"
            ]
          },
          "metadata": {
            "tags": []
          },
          "execution_count": 4
        }
      ]
    },
    {
      "cell_type": "markdown",
      "metadata": {
        "id": "tO5r7iiamNrG"
      },
      "source": [
        "here  we have the hours that a student study and what percentage he scores in examination. so score is our target variable. now lets plot a scatter chart to see the relation between this two features."
      ]
    },
    {
      "cell_type": "code",
      "metadata": {
        "id": "8cLRpovvmI17",
        "outputId": "c1073cd4-c6a0-451d-889f-ac0805736a5d",
        "colab": {
          "base_uri": "https://localhost:8080/",
          "height": 295
        }
      },
      "source": [
        "plt.scatter(x = data.Hours, y = data.Scores, marker = '*', edgecolors = 'blue')\n",
        "plt.title(\"Study_Hours V/S Percentage_Scored\")\n",
        "plt.xlabel(\"Hour\")\n",
        "plt.ylabel(\"(Score\")\n",
        "plt.show()"
      ],
      "execution_count": 5,
      "outputs": [
        {
          "output_type": "display_data",
          "data": {
            "image/png": "[encoded data removed]",
            "text/plain": [
              "<Figure size 432x288 with 1 Axes>"
            ]
          },
          "metadata": {
            "tags": [],
            "needs_background": "light"
          }
        }
      ]
    },
    {
      "cell_type": "code",
      "metadata": {
        "id": "gQsDu8gOdzkk",
        "outputId": "0c388848-38ba-428d-e467-fd1f0bbeef7e",
        "colab": {
          "base_uri": "https://localhost:8080/",
          "height": 389
        }
      },
      "source": [
        "# paired plot using seaborn\n",
        "\n",
        "sns.set()\n",
        "sns.pairplot(data[['Hours','Scores']])"
      ],
      "execution_count": 31,
      "outputs": [
        {
          "output_type": "execute_result",
          "data": {
            "text/plain": [
              "<seaborn.axisgrid.PairGrid at 0x7f230669ecf8>"
            ]
          },
          "metadata": {
            "tags": []
          },
          "execution_count": 31
        },
        {
          "output_type": "display_data",
          "data": {
            "image/png": "[encoded data removed]",
            "text/plain": [
              "<Figure size 360x360 with 6 Axes>"
            ]
          },
          "metadata": {
            "tags": []
          }
        }
      ]
    },
    {
      "cell_type": "markdown",
      "metadata": {
        "id": "W1MA44MQrYm1"
      },
      "source": [
        "Now lets, seperate our target variable and dependent variable."
      ]
    },
    {
      "cell_type": "code",
      "metadata": {
        "id": "2IXtm8AzmrQ_"
      },
      "source": [
        "# preparing the data for our linear model\n",
        "x = data.iloc[ :, :-1].values # is our dependent variable hours of study\n",
        "y = data.iloc[ :, 1].values# is our target variable percentage scores"
      ],
      "execution_count": 8,
      "outputs": []
    },
    {
      "cell_type": "markdown",
      "metadata": {
        "id": "5lZYKvGLtJoo"
      },
      "source": [
        "#**Lets, create our Linear Model** "
      ]
    },
    {
      "cell_type": "code",
      "metadata": {
        "id": "ftELvSE0r-ny"
      },
      "source": [
        "# spliting the data into train and test set\n",
        "x_train, x_test, y_train, y_test = train_test_split(x, y, test_size = 0.2, random_state = 0)"
      ],
      "execution_count": 9,
      "outputs": []
    },
    {
      "cell_type": "code",
      "metadata": {
        "id": "LZ61G54VuV3A"
      },
      "source": [
        "# Creating the Linear Model\n",
        "linear_model = LinearRegression() # creating the object of the linear Regression\n",
        "linear_model.fit(x_train,y_train) # fitting the traning data to the linear model\n",
        "y_pred = linear_model.predict(x_test) # predicting the results for test data"
      ],
      "execution_count": 10,
      "outputs": []
    },
    {
      "cell_type": "markdown",
      "metadata": {
        "id": "jbeqiG4gmZ_B"
      },
      "source": [
        "###**Comparing the real and predicted score**"
      ]
    },
    {
      "cell_type": "code",
      "metadata": {
        "id": "R_r3sumBvl8H",
        "outputId": "d84cc195-1f83-412d-db8a-23bc0e09353c",
        "colab": {
          "base_uri": "https://localhost:8080/",
          "height": 195
        }
      },
      "source": [
        "#comparing the actual and predicted results\n",
        "comp = pd.DataFrame({'Real': y_test, 'Predicted': y_pred})\n",
        "comp"
      ],
      "execution_count": 11,
      "outputs": [
        {
          "output_type": "execute_result",
          "data": {
            "text/html": [
              "<div>\n",
              "<style scoped>\n",
              "    .dataframe tbody tr th:only-of-type {\n",
              "        vertical-align: middle;\n",
              "    }\n",
              "\n",
              "    .dataframe tbody tr th {\n",
              "        vertical-align: top;\n",
              "    }\n",
              "\n",
              "    .dataframe thead th {\n",
              "        text-align: right;\n",
              "    }\n",
              "</style>\n",
              "<table border=\"1\" class=\"dataframe\">\n",
              "  <thead>\n",
              "    <tr style=\"text-align: right;\">\n",
              "      <th></th>\n",
              "      <th>Real</th>\n",
              "      <th>Predicted</th>\n",
              "    </tr>\n",
              "  </thead>\n",
              "  <tbody>\n",
              "    <tr>\n",
              "      <th>0</th>\n",
              "      <td>20</td>\n",
              "      <td>16.884145</td>\n",
              "    </tr>\n",
              "    <tr>\n",
              "      <th>1</th>\n",
              "      <td>27</td>\n",
              "      <td>33.732261</td>\n",
              "    </tr>\n",
              "    <tr>\n",
              "      <th>2</th>\n",
              "      <td>69</td>\n",
              "      <td>75.357018</td>\n",
              "    </tr>\n",
              "    <tr>\n",
              "      <th>3</th>\n",
              "      <td>30</td>\n",
              "      <td>26.794801</td>\n",
              "    </tr>\n",
              "    <tr>\n",
              "      <th>4</th>\n",
              "      <td>62</td>\n",
              "      <td>60.491033</td>\n",
              "    </tr>\n",
              "  </tbody>\n",
              "</table>\n",
              "</div>"
            ],
            "text/plain": [
              "   Real  Predicted\n",
              "0    20  16.884145\n",
              "1    27  33.732261\n",
              "2    69  75.357018\n",
              "3    30  26.794801\n",
              "4    62  60.491033"
            ]
          },
          "metadata": {
            "tags": []
          },
          "execution_count": 11
        }
      ]
    },
    {
      "cell_type": "code",
      "metadata": {
        "id": "jX-moRPIj6De",
        "outputId": "27583c42-9d49-469d-9e5a-39ecd3dac43a",
        "colab": {
          "base_uri": "https://localhost:8080/",
          "height": 285
        }
      },
      "source": [
        "# visualizing the real and predicted score\n",
        "\n",
        "comp.plot(marker = '*', color = ['red','green'])"
      ],
      "execution_count": 29,
      "outputs": [
        {
          "output_type": "execute_result",
          "data": {
            "text/plain": [
              "<matplotlib.axes._subplots.AxesSubplot at 0x7f23067d3ef0>"
            ]
          },
          "metadata": {
            "tags": []
          },
          "execution_count": 29
        },
        {
          "output_type": "display_data",
          "data": {
            "image/png": "[encoded data removed]",
            "text/plain": [
              "<Figure size 432x288 with 1 Axes>"
            ]
          },
          "metadata": {
            "tags": []
          }
        }
      ]
    },
    {
      "cell_type": "markdown",
      "metadata": {
        "id": "c0Q14iWwlwX9"
      },
      "source": [
        "##**Visualizing the Traning and Test Data**"
      ]
    },
    {
      "cell_type": "code",
      "metadata": {
        "id": "3eXD7ZfKvnyW",
        "outputId": "92d21904-0b42-42e5-f597-f57b2e639ecf",
        "colab": {
          "base_uri": "https://localhost:8080/",
          "height": 301
        }
      },
      "source": [
        "# visualizing the traning data\n",
        "\n",
        "plt.scatter(x_train, y_train, color = 'red', marker= '*')\n",
        "plt.plot(x_train,linear_model.predict(x_train), color = 'blue')\n",
        "plt.title(\"Hours_Studied vs Percentage_Scored(traning set)\")\n",
        "plt.xlabel(\"Hours\")\n",
        "plt.ylabel(\"Scores\")\n",
        "plt.show()"
      ],
      "execution_count": 12,
      "outputs": [
        {
          "output_type": "display_data",
          "data": {
            "image/png": "[encoded data removed]",
            "text/plain": [
              "<Figure size 432x288 with 1 Axes>"
            ]
          },
          "metadata": {
            "tags": []
          }
        }
      ]
    },
    {
      "cell_type": "code",
      "metadata": {
        "id": "BRjoXwm2zfsN",
        "outputId": "767df689-1332-4111-95f3-6dba008bc4d0",
        "colab": {
          "base_uri": "https://localhost:8080/",
          "height": 301
        }
      },
      "source": [
        "#visualizing the test data\n",
        "\n",
        "plt.scatter(x_test, y_test, color = 'red', marker='*')\n",
        "plt.plot(x_train,linear_model.predict(x_train), color = 'blue')\n",
        "plt.title(\"Hours_Studies vs Percentage_Scores(test set)\")\n",
        "plt.xlabel(\"Hours\")\n",
        "plt.ylabel(\"Scores\")\n",
        "plt.show()\n"
      ],
      "execution_count": 13,
      "outputs": [
        {
          "output_type": "display_data",
          "data": {
            "image/png": "[encoded data removed]",
            "text/plain": [
              "<Figure size 432x288 with 1 Axes>"
            ]
          },
          "metadata": {
            "tags": []
          }
        }
      ]
    },
    {
      "cell_type": "markdown",
      "metadata": {
        "id": "FGJLI_xm3QG7"
      },
      "source": [
        "##**Evaluating the model**"
      ]
    },
    {
      "cell_type": "code",
      "metadata": {
        "id": "VIy5WSxZ2r5M",
        "outputId": "aa3007e1-de0d-4390-a3ce-808432c3b6fe",
        "colab": {
          "base_uri": "https://localhost:8080/"
        }
      },
      "source": [
        "print('Mean Absolute Error:',mean_absolute_error(y_test, y_pred)) "
      ],
      "execution_count": 14,
      "outputs": [
        {
          "output_type": "stream",
          "text": [
            "Mean Absolute Error: 4.183859899002982\n"
          ],
          "name": "stdout"
        }
      ]
    },
    {
      "cell_type": "markdown",
      "metadata": {
        "id": "knHMavhBlSwS"
      },
      "source": [
        "##Prediction on new Data"
      ]
    },
    {
      "cell_type": "code",
      "metadata": {
        "id": "8eqp3T4z3p8D",
        "outputId": "0f4095e8-435c-4ec4-f630-c2b053acbe9d",
        "colab": {
          "base_uri": "https://localhost:8080/"
        }
      },
      "source": [
        "# predicting the score of student who study 9.25 hrs/day.\n",
        "hrs = [[9.25]]\n",
        "pred = linear_model.predict(hrs)\n",
        "print(\"student who study\",hrs[0],\"hours per day are likely to get\",pred[0],\"percentage\")"
      ],
      "execution_count": 15,
      "outputs": [
        {
          "output_type": "stream",
          "text": [
            "student who study [9.25] hours per day are likely to get 93.69173248737539 percentage\n"
          ],
          "name": "stdout"
        }
      ]
    },
    {
      "cell_type": "code",
      "metadata": {
        "id": "RJaVoX82GX-6"
      },
      "source": [
        ""
      ],
      "execution_count": 15,
      "outputs": []
    }
  ]
}